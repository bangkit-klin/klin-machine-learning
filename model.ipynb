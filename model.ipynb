{
 "cells": [
  {
   "cell_type": "code",
   "execution_count": 15,
   "metadata": {},
   "outputs": [],
   "source": [
    "import tensorflow as tf\n",
    "from tensorflow.keras import regularizers\n",
    "from tensorflow.keras.preprocessing.image import ImageDataGenerator\n",
    "from tensorflow.keras.callbacks import EarlyStopping\n",
    "import matplotlib.pyplot as plt\n",
    "from tensorflow.keras.optimizers import RMSprop\n",
    "import os\n"
   ]
  },
  {
   "cell_type": "code",
   "execution_count": 16,
   "metadata": {},
   "outputs": [
    {
     "name": "stdout",
     "output_type": "stream",
     "text": [
      "Kelas train'celana_panjang' memiliki 253 file.\n",
      "Kelas train'celana_pendek' memiliki 246 file.\n",
      "Kelas train'kemeja' memiliki 244 file.\n",
      "Kelas train'sepatu' memiliki 240 file.\n",
      "Kelas train'skirt' memiliki 242 file.\n",
      "Kelas train'sweater_and_jacket' memiliki 340 file.\n",
      "Kelas train't-shirt' memiliki 339 file.\n"
     ]
    }
   ],
   "source": [
    "dataset_dir = './data/train'\n",
    "\n",
    "# Inisialisasi dictionary untuk menyimpan jumlah file setiap kelas\n",
    "class_file_count = {}\n",
    "\n",
    "# Loop melalui setiap kelas dalam direktori\n",
    "for class_name in os.listdir(dataset_dir):\n",
    "    class_path = os.path.join(dataset_dir, class_name)\n",
    "    \n",
    "    # Menghitung jumlah file dalam setiap kelas\n",
    "    file_count = len(os.listdir(class_path))\n",
    "    \n",
    "    # Menyimpan jumlah file dalam dictionary\n",
    "    class_file_count[class_name] = file_count\n",
    "\n",
    "# Menampilkan jumlah file setiap kelas\n",
    "for class_name, count in class_file_count.items():\n",
    "    print(f\"Kelas train'{class_name}' memiliki {count} file.\")"
   ]
  },
  {
   "cell_type": "code",
   "execution_count": 17,
   "metadata": {},
   "outputs": [
    {
     "name": "stdout",
     "output_type": "stream",
     "text": [
      "Kelas validasi'celana_panjang' memiliki 64 file.\n",
      "Kelas validasi'celana_pendek' memiliki 62 file.\n",
      "Kelas validasi'kemeja' memiliki 61 file.\n",
      "Kelas validasi'sepatu' memiliki 60 file.\n",
      "Kelas validasi'skirt' memiliki 60 file.\n",
      "Kelas validasi'sweater_and_jacket' memiliki 85 file.\n",
      "Kelas validasi't-shirt' memiliki 85 file.\n"
     ]
    }
   ],
   "source": [
    "dataset_dir = './data/validation'\n",
    "\n",
    "# Inisialisasi dictionary untuk menyimpan jumlah file setiap kelas\n",
    "class_file_count = {}\n",
    "\n",
    "# Loop melalui setiap kelas dalam direktori\n",
    "for class_name in os.listdir(dataset_dir):\n",
    "    class_path = os.path.join(dataset_dir, class_name)\n",
    "    \n",
    "    # Menghitung jumlah file dalam setiap kelas\n",
    "    file_count = len(os.listdir(class_path))\n",
    "    \n",
    "    # Menyimpan jumlah file dalam dictionary\n",
    "    class_file_count[class_name] = file_count\n",
    "\n",
    "# Menampilkan jumlah file setiap kelas\n",
    "for class_name, count in class_file_count.items():\n",
    "    print(f\"Kelas validasi'{class_name}' memiliki {count} file.\")"
   ]
  },
  {
   "cell_type": "code",
   "execution_count": 18,
   "metadata": {},
   "outputs": [],
   "source": [
    "#folder_path = 'C:\\\\capstopne 2\\\\data\\\\train\\\\t-shirt' # Ganti dengan path menuju folder yang berisi gambar\n",
    "\n",
    "# Mendapatkan daftar file dalam folder\n",
    "#files = os.listdir(folder_path)\n",
    "\n",
    "# Iterasi melalui setiap file dalam folder\n",
    "#for index, file_name in enumerate(files):\n",
    "    # Ubah nama file sesuai kebutuhan, contoh: gambar1.jpg, gambar2.jpg, dll.\n",
    "   # new_file_name = f\"gambar{index + 1}.jpg\"\n",
    "    \n",
    "    # Path file lama dan file baru\n",
    "    #old_path = os.path.join(folder_path, file_name)\n",
    "    #new_path = os.path.join(folder_path, new_file_name)\n",
    "    \n",
    "    # Ubah nama file menggunakan os.rename()\n",
    "    #os.rename(old_path, new_path)\n"
   ]
  },
  {
   "cell_type": "code",
   "execution_count": 19,
   "metadata": {},
   "outputs": [],
   "source": [
    "train_dir = './data/train'\n",
    "val_dir = './data/validation'\n",
    "\n",
    "image_width = 150\n",
    "image_height = 150\n",
    "batch_size = 32\n"
   ]
  },
  {
   "cell_type": "code",
   "execution_count": 20,
   "metadata": {},
   "outputs": [],
   "source": [
    "#class myCallback(tf.keras.callbacks.Callback):\n",
    " #   def on_epoch_end(self, epoch, logs={}):\n",
    "  #      if logs.get('accuracy')>=0.88 and logs.get('val_accuracy') >= 0.80:\n",
    "   #         print(\"\\nReached 80.0% accuracy so cancelling training!\")\n",
    "    #        self.model.stop_training = True"
   ]
  },
  {
   "cell_type": "code",
   "execution_count": 21,
   "metadata": {},
   "outputs": [],
   "source": [
    "train_datagen = ImageDataGenerator(rescale=1./255,\n",
    "                                    rotation_range = 40,\n",
    "                                    width_shift_range = 0.25,\n",
    "                                    height_shift_range = 0.25,\n",
    "                                    shear_range = 0.2,\n",
    "                                    horizontal_flip = True,\n",
    "                                    fill_mode = 'nearest')\n",
    "\n",
    "val_datagen = ImageDataGenerator(rescale=1./255)"
   ]
  },
  {
   "cell_type": "code",
   "execution_count": 27,
   "metadata": {},
   "outputs": [
    {
     "name": "stdout",
     "output_type": "stream",
     "text": [
      "Found 1904 images belonging to 7 classes.\n",
      "Found 477 images belonging to 7 classes.\n"
     ]
    }
   ],
   "source": [
    "train_generator = train_datagen.flow_from_directory(\n",
    "    train_dir,\n",
    "    target_size=(image_width, image_height),\n",
    "    batch_size=batch_size,\n",
    "    class_mode='categorical')\n",
    "\n",
    "validation_generator = val_datagen.flow_from_directory(\n",
    "    val_dir,\n",
    "    target_size=(image_width, image_height),\n",
    "    batch_size=5,\n",
    "    class_mode='categorical')"
   ]
  },
  {
   "cell_type": "code",
   "execution_count": 33,
   "metadata": {},
   "outputs": [
    {
     "name": "stdout",
     "output_type": "stream",
     "text": [
      "Epoch 1/100\n",
      "60/60 [==============================] - 51s 832ms/step - loss: 1.9055 - accuracy: 0.2148 - val_loss: 1.8753 - val_accuracy: 0.2306\n",
      "Epoch 2/100\n",
      "60/60 [==============================] - 50s 838ms/step - loss: 1.7317 - accuracy: 0.2789 - val_loss: 1.7192 - val_accuracy: 0.2851\n",
      "Epoch 3/100\n",
      "60/60 [==============================] - 51s 843ms/step - loss: 1.5902 - accuracy: 0.3566 - val_loss: 1.7276 - val_accuracy: 0.3795\n",
      "Epoch 4/100\n",
      "60/60 [==============================] - 51s 858ms/step - loss: 1.5175 - accuracy: 0.3876 - val_loss: 1.6492 - val_accuracy: 0.3857\n",
      "Epoch 5/100\n",
      "60/60 [==============================] - 50s 825ms/step - loss: 1.4740 - accuracy: 0.4060 - val_loss: 1.6515 - val_accuracy: 0.4319\n",
      "Epoch 6/100\n",
      "60/60 [==============================] - 50s 829ms/step - loss: 1.4283 - accuracy: 0.4223 - val_loss: 1.5441 - val_accuracy: 0.4612\n",
      "Epoch 7/100\n",
      "60/60 [==============================] - 50s 826ms/step - loss: 1.3765 - accuracy: 0.4501 - val_loss: 1.5973 - val_accuracy: 0.4633\n",
      "Epoch 8/100\n",
      "60/60 [==============================] - 51s 852ms/step - loss: 1.3516 - accuracy: 0.4596 - val_loss: 1.5023 - val_accuracy: 0.4885\n",
      "Epoch 9/100\n",
      "60/60 [==============================] - 51s 843ms/step - loss: 1.3334 - accuracy: 0.4706 - val_loss: 1.4588 - val_accuracy: 0.4969\n",
      "Epoch 10/100\n",
      "60/60 [==============================] - 52s 871ms/step - loss: 1.3018 - accuracy: 0.4842 - val_loss: 1.4615 - val_accuracy: 0.5031\n",
      "Epoch 11/100\n",
      "60/60 [==============================] - 51s 853ms/step - loss: 1.3265 - accuracy: 0.4758 - val_loss: 1.4804 - val_accuracy: 0.5052\n",
      "Epoch 12/100\n",
      "60/60 [==============================] - 51s 843ms/step - loss: 1.2906 - accuracy: 0.4795 - val_loss: 1.4145 - val_accuracy: 0.5157\n",
      "Epoch 13/100\n",
      "60/60 [==============================] - 49s 821ms/step - loss: 1.2461 - accuracy: 0.5105 - val_loss: 1.4527 - val_accuracy: 0.5178\n",
      "Epoch 14/100\n",
      "60/60 [==============================] - 51s 844ms/step - loss: 1.2380 - accuracy: 0.5105 - val_loss: 1.5019 - val_accuracy: 0.5115\n",
      "Epoch 15/100\n",
      "60/60 [==============================] - 53s 876ms/step - loss: 1.2200 - accuracy: 0.5047 - val_loss: 1.4573 - val_accuracy: 0.5220\n",
      "Epoch 16/100\n",
      "60/60 [==============================] - 51s 854ms/step - loss: 1.1929 - accuracy: 0.5326 - val_loss: 1.4509 - val_accuracy: 0.5367\n",
      "Epoch 17/100\n",
      "60/60 [==============================] - 50s 828ms/step - loss: 1.1912 - accuracy: 0.5368 - val_loss: 1.4403 - val_accuracy: 0.5220\n",
      "Epoch 18/100\n",
      "60/60 [==============================] - 50s 837ms/step - loss: 1.2001 - accuracy: 0.5315 - val_loss: 1.5193 - val_accuracy: 0.5367\n",
      "Epoch 19/100\n",
      "60/60 [==============================] - 55s 918ms/step - loss: 1.1809 - accuracy: 0.5336 - val_loss: 1.5284 - val_accuracy: 0.5556\n"
     ]
    }
   ],
   "source": [
    "# Bangun arsitektur model\n",
    "#callback=myCallback()\n",
    "model = tf.keras.Sequential([\n",
    "    tf.keras.layers.Conv2D(32, (2, 2), activation='relu', input_shape=(image_width, image_height, 3)),\n",
    "    tf.keras.layers.MaxPooling2D(2, 2),\n",
    "    #tf.keras.layers.Dropout(0.2),\n",
    "    \n",
    "    tf.keras.layers.Conv2D(64, (3, 3), activation='relu', input_shape=(image_width, image_height, 3)),\n",
    "    tf.keras.layers.MaxPooling2D(2, 2),\n",
    "    #tf.keras.layers.Dropout(0.2),\n",
    "\n",
    "    tf.keras.layers.Conv2D(64, (3, 3), activation='relu', input_shape=(image_width, image_height, 3)),\n",
    "    tf.keras.layers.MaxPooling2D(2, 2),\n",
    "    #tf.keras.layers.Dropout(0.2),\n",
    "\n",
    "    tf.keras.layers.Flatten(),\n",
    "    tf.keras.layers.Dense(32,activation='relu'),\n",
    "    \n",
    "    tf.keras.layers.Dense(7, activation='softmax')  # Jumlah kelas\n",
    "])\n",
    "\n",
    "# Compile model\n",
    "model.compile(optimizer ='adam',\n",
    "              loss='categorical_crossentropy',\n",
    "              metrics=['accuracy'])\n",
    "\n",
    "early_stopping= EarlyStopping(monitor='val_loss', patience=7, restore_best_weights=True)\n",
    "\n",
    "\n",
    "history=model.fit(\n",
    "    train_generator,\n",
    "    epochs=100,\n",
    "    validation_data= validation_generator,\n",
    "    callbacks=[early_stopping])"
   ]
  },
  {
   "cell_type": "code",
   "execution_count": 34,
   "metadata": {},
   "outputs": [
    {
     "data": {
      "image/png": "[encoded data removed]",
      "text/plain": [
       "<Figure size 432x288 with 1 Axes>"
      ]
     },
     "metadata": {
      "needs_background": "light"
     },
     "output_type": "display_data"
    },
    {
     "data": {
      "image/png": "[encoded data removed]",
      "text/plain": [
       "<Figure size 432x288 with 1 Axes>"
      ]
     },
     "metadata": {
      "needs_background": "light"
     },
     "output_type": "display_data"
    }
   ],
   "source": [
    "train_acc = history.history['accuracy']\n",
    "val_acc = history.history['val_accuracy']\n",
    "train_loss = history.history['loss']\n",
    "val_loss = history.history['val_loss']\n",
    "\n",
    "epochs = range(1, len(train_acc) + 1)\n",
    "\n",
    "# Plot grafik\n",
    "plt.plot(epochs, train_acc, 'b', label='Training accuracy')\n",
    "plt.plot(epochs, val_acc, 'r', label='Validation accuracy')\n",
    "plt.title('Training and Validation Accuracy')\n",
    "plt.xlabel('Epochs')\n",
    "plt.ylabel('Accuracy')\n",
    "plt.legend()\n",
    "plt.figure()\n",
    "\n",
    "# Plot train & validation loss\n",
    "plt.plot(epochs, train_loss, 'b', label='Training loss')\n",
    "plt.plot(epochs, val_loss, 'r', label='Validation loss')\n",
    "plt.title('Training and Validation Loss')\n",
    "plt.xlabel('Epochs')\n",
    "plt.ylabel('Loss')\n",
    "plt.legend()\n",
    "plt.show()"
   ]
  },
  {
   "cell_type": "code",
   "execution_count": 35,
   "metadata": {},
   "outputs": [],
   "source": [
    "model.save('model_coba.h5')"
   ]
  },
  {
   "cell_type": "code",
   "execution_count": 26,
   "metadata": {},
   "outputs": [
    {
     "name": "stdout",
     "output_type": "stream",
     "text": [
      "['celana_panjang', 'celana_pendek', 'kemeja', 'sepatu', 'skirt', 'sweater_and_jacket', 't-shirt']\n"
     ]
    }
   ],
   "source": [
    "class_labels = list(train_generator.class_indices.keys())\n",
    "print(class_labels)"
   ]
  }
 ],
 "metadata": {
  "kernelspec": {
   "display_name": "Python 3",
   "language": "python",
   "name": "python3"
  },
  "language_info": {
   "codemirror_mode": {
    "name": "ipython",
    "version": 3
   },
   "file_extension": ".py",
   "mimetype": "text/x-python",
   "name": "python",
   "nbconvert_exporter": "python",
   "pygments_lexer": "ipython3",
   "version": "3.10.0"
  }
 },
 "nbformat": 4,
 "nbformat_minor": 2
}
